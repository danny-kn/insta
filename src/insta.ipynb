{
 "cells": [
  {
   "cell_type": "code",
   "execution_count": 1,
   "id": "ea2cd3d4-c673-4de3-9dd7-7ba99cb65e00",
   "metadata": {},
   "outputs": [],
   "source": [
    "import os\n",
    "import json\n",
    "from typing import List, Dict"
   ]
  },
  {
   "cell_type": "code",
   "execution_count": 8,
   "id": "4cc701ca-03a2-4567-ad19-15948a69b7dd",
   "metadata": {},
   "outputs": [],
   "source": [
    "def load_user_data(data_type: str) -> List[Dict[str, str]]:\n",
    "    if data_type == \"followers\":\n",
    "        input_file: str = os.path.join(\n",
    "            \"..\", \"data\", \"connections\", \"followers_and_following\", \"followers.json\"\n",
    "        )\n",
    "        data_key = None\n",
    "    elif data_type == \"following\":\n",
    "        input_file: str = os.path.join(\n",
    "            \"..\", \"data\", \"connections\", \"followers_and_following\", \"following.json\"\n",
    "        )\n",
    "        data_key = \"relationships_following\"\n",
    "    elif data_type == \"pending_follow_requests\":\n",
    "        input_file: str = os.path.join(\n",
    "            \"..\",\n",
    "            \"data\",\n",
    "            \"connections\",\n",
    "            \"followers_and_following\",\n",
    "            \"pending_follow_requests.json\",\n",
    "        )\n",
    "        data_key = \"relationships_follow_requests_sent\"\n",
    "    else:\n",
    "        raise ValueError(\n",
    "            'data_type must be \"followers\", \"following\", or \"pending_follow_requests\".'\n",
    "        )\n",
    "\n",
    "    try:\n",
    "        with open(input_file, \"r\", encoding=\"utf-8\") as f:\n",
    "            json_data = json.load(f)\n",
    "\n",
    "        data = json_data[data_key] if data_key else json_data\n",
    "\n",
    "        users: List[Dict[str, str]] = []\n",
    "        for item in data:\n",
    "            if \"string_list_data\" in item and item[\"string_list_data\"]:\n",
    "                user_info = item[\"string_list_data\"][0]\n",
    "                users.append(\n",
    "                    {\"username\": user_info[\"value\"], \"href\": user_info[\"href\"]}\n",
    "                )\n",
    "\n",
    "        return users\n",
    "\n",
    "    except (FileNotFoundError, json.JSONDecodeError, Exception) as e:\n",
    "        print(f\"error with {data_type}: {e}\")\n",
    "        return []"
   ]
  },
  {
   "cell_type": "code",
   "execution_count": 9,
   "id": "47b14a97-cb53-480b-bc45-80344eb4e939",
   "metadata": {},
   "outputs": [],
   "source": [
    "def write_csv_file(users: List[Dict[str, str]], filename: str) -> None:\n",
    "    os.makedirs(\"../output\", exist_ok=True)\n",
    "    output_file: str = os.path.join(\"..\", \"output\", filename)\n",
    "\n",
    "    with open(output_file, \"w\", encoding=\"utf-8\") as f:\n",
    "        for i, user in enumerate(users, 1):\n",
    "            f.write(f\"{i},{user['username']},{user['href']}\\n\")"
   ]
  },
  {
   "cell_type": "code",
   "execution_count": 4,
   "id": "170149cc-439d-4aff-95fa-4843f934ff4e",
   "metadata": {},
   "outputs": [],
   "source": [
    "def process_user_data(data_type: str) -> int:\n",
    "    users: List[Dict[str, str]] = load_user_data(data_type)\n",
    "    write_csv_file(users, f\"{data_type}.csv\")\n",
    "    return len(users)"
   ]
  },
  {
   "cell_type": "code",
   "execution_count": 5,
   "id": "5ba0410d-58d7-4c73-af14-cee176c98174",
   "metadata": {},
   "outputs": [],
   "source": [
    "def main() -> None:\n",
    "    print(f\"followers: {process_user_data('followers')}\")\n",
    "    print(f\"following: {process_user_data('following')}\")\n",
    "    print(f\"pending follow requests: {process_user_data('pending_follow_requests')}\")\n",
    "\n",
    "    followers_usernames: set[str] = {\n",
    "        user[\"username\"] for user in load_user_data(\"followers\")\n",
    "    }\n",
    "    following_usernames: set[str] = {\n",
    "        user[\"username\"] for user in load_user_data(\"following\")\n",
    "    }\n",
    "\n",
    "    not_following_back_usernames: set[str] = following_usernames - followers_usernames\n",
    "    not_following_back_users: List[Dict[str, str]] = [\n",
    "        user\n",
    "        for user in load_user_data(\"following\")\n",
    "        if user[\"username\"] in not_following_back_usernames\n",
    "    ]\n",
    "\n",
    "    write_csv_file(not_following_back_users, \"not_following_back.csv\")\n",
    "\n",
    "    print(f\"not following back: {len(not_following_back_users)}\")"
   ]
  },
  {
   "cell_type": "code",
   "execution_count": 10,
   "id": "d163e5c1-0f5f-4974-9f93-1cdef575f8a0",
   "metadata": {},
   "outputs": [
    {
     "name": "stdout",
     "output_type": "stream",
     "text": [
      "followers: 728\n",
      "following: 1007\n",
      "pending follow requests: 54\n",
      "not following back: 391\n"
     ]
    }
   ],
   "source": [
    "if __name__ == \"__main__\":\n",
    "    main()"
   ]
  },
  {
   "cell_type": "code",
   "execution_count": null,
   "id": "e90ad0d6-462c-47f6-af06-06a4831db160",
   "metadata": {},
   "outputs": [],
   "source": []
  }
 ],
 "metadata": {
  "kernelspec": {
   "display_name": "Python 3 (ipykernel)",
   "language": "python",
   "name": "python3"
  },
  "language_info": {
   "codemirror_mode": {
    "name": "ipython",
    "version": 3
   },
   "file_extension": ".py",
   "mimetype": "text/x-python",
   "name": "python",
   "nbconvert_exporter": "python",
   "pygments_lexer": "ipython3",
   "version": "3.13.7"
  }
 },
 "nbformat": 4,
 "nbformat_minor": 5
}
